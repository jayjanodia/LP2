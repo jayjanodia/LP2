{
 "cells": [
  {
   "cell_type": "markdown",
   "metadata": {},
   "source": [
    "# References:\n",
    "https://www.kaggle.com/yassineghouzam/introduction-to-cnn-keras-0-997-top-6 <br>\n",
    "https://towardsdatascience.com/digit-recognizer-introduction-to-kaggle-competitions-with-image-classification-task-0-995-268fa2b90e13 <br>\n",
    "https://medium.com/@himanshubeniwal/handwritten-digit-recognition-using-machine-learning-ad30562a9b64 <br>\n",
    "https://machinelearningmastery.com/handwritten-digit-recognition-using-convolutional-neural-networks-python-keras/ <br>\n",
    "https://dev.to/tomoyukiaota/visualizing-the-patterns-of-missing-value-occurrence-with-python-46dj <br>\n"
   ]
  },
  {
   "cell_type": "markdown",
   "metadata": {},
   "source": [
    "# Importing the libraries"
   ]
  },
  {
   "cell_type": "code",
   "execution_count": 1,
   "metadata": {},
   "outputs": [
    {
     "name": "stderr",
     "output_type": "stream",
     "text": [
      "Using TensorFlow backend.\n"
     ]
    }
   ],
   "source": [
    "import pandas as pd\n",
    "import numpy as np\n",
    "import matplotlib.pyplot as plt\n",
    "import matplotlib.image as img\n",
    "import seaborn as sns\n",
    "%matplotlib inline\n",
    "\n",
    "np.random.seed(2)\n",
    "\n",
    "from sklearn.model_selection import train_test_split\n",
    "from sklearn.metrics import confusion_matrix, accuracy_score, f1_score\n",
    "import itertools\n",
    "\n",
    "from keras.utils.np_utils import to_categorical #convert to one-hot encoding\n",
    "from keras.models import Sequential\n",
    "from keras.layers import Dense, Dropout, Flatten, Conv2D, MaxPool2D\n",
    "from keras.optimizers import RMSprop\n",
    "from keras.preprocessing.image import ImageDataGenerator\n",
    "from keras.callbacks import ReduceLROnPlateau\n",
    "\n",
    "sns.set(style = 'white', context = 'notebook', palette = 'deep')"
   ]
  },
  {
   "cell_type": "markdown",
   "metadata": {},
   "source": [
    "# Importing the dataset"
   ]
  },
  {
   "cell_type": "code",
   "execution_count": 2,
   "metadata": {},
   "outputs": [],
   "source": [
    "train_set = pd.read_csv('train.csv')\n",
    "test_set = pd.read_csv('test.csv')\n",
    "y_train = train_set['label']\n",
    "#x_train = train_set.iloc[:, :-1].values\n",
    "x_train = train_set.drop(labels = ['label'], axis = 1)\n",
    "del train_set"
   ]
  },
  {
   "cell_type": "code",
   "execution_count": 3,
   "metadata": {},
   "outputs": [
    {
     "data": {
      "text/plain": [
       "1    4684\n",
       "7    4401\n",
       "3    4351\n",
       "9    4188\n",
       "2    4177\n",
       "6    4137\n",
       "0    4132\n",
       "4    4072\n",
       "8    4063\n",
       "5    3795\n",
       "Name: label, dtype: int64"
      ]
     },
     "execution_count": 3,
     "metadata": {},
     "output_type": "execute_result"
    },
    {
     "data": {
      "image/png": "[encoded data removed]",
      "text/plain": [
       "<Figure size 432x288 with 1 Axes>"
      ]
     },
     "metadata": {
      "needs_background": "light"
     },
     "output_type": "display_data"
    }
   ],
   "source": [
    "y_count = sns.countplot(y_train)\n",
    "y_train.value_counts()"
   ]
  },
  {
   "cell_type": "markdown",
   "metadata": {},
   "source": [
    "# Missing values"
   ]
  },
  {
   "cell_type": "code",
   "execution_count": 4,
   "metadata": {},
   "outputs": [
    {
     "data": {
      "text/plain": [
       "count       784\n",
       "unique        1\n",
       "top       False\n",
       "freq        784\n",
       "dtype: object"
      ]
     },
     "execution_count": 4,
     "metadata": {},
     "output_type": "execute_result"
    }
   ],
   "source": [
    "x_train.isnull().any().describe()"
   ]
  },
  {
   "cell_type": "code",
   "execution_count": 5,
   "metadata": {},
   "outputs": [
    {
     "data": {
      "text/plain": [
       "count       784\n",
       "unique        1\n",
       "top       False\n",
       "freq        784\n",
       "dtype: object"
      ]
     },
     "execution_count": 5,
     "metadata": {},
     "output_type": "execute_result"
    }
   ],
   "source": [
    "test_set.isnull().any().describe()"
   ]
  },
  {
   "cell_type": "markdown",
   "metadata": {},
   "source": [
    "# Normalization\n",
    "Convert image into grayscale to reduce the effect of illumination difference"
   ]
  },
  {
   "cell_type": "code",
   "execution_count": 6,
   "metadata": {},
   "outputs": [],
   "source": [
    "x_train = x_train / 255\n",
    "test_set = test_set / 255"
   ]
  },
  {
   "cell_type": "markdown",
   "metadata": {},
   "source": [
    "# Reshaping image into 3 dimensions"
   ]
  },
  {
   "cell_type": "code",
   "execution_count": 7,
   "metadata": {},
   "outputs": [],
   "source": [
    "#We will input height as 28px, width as 28px and number of channels as 1 since the image is grayscaled\n",
    "x_train = x_train.values.reshape(-1, 28, 28, 1)\n",
    "test_set = test_set.values.reshape(-1, 28, 28, 1)"
   ]
  },
  {
   "cell_type": "markdown",
   "metadata": {},
   "source": [
    "# Label Encoding\n",
    "The test set output is in digits from 0 to 9. We want them to be in binary (0s and 1s). So we need to perform OneHotEncoder on them. For example, 7 will be represented as : [0, 0, 0, 0, 0, 0, 0, 1, 0, 0]"
   ]
  },
  {
   "cell_type": "code",
   "execution_count": 8,
   "metadata": {},
   "outputs": [],
   "source": [
    "y_train = to_categorical(y_train, num_classes = 10)"
   ]
  },
  {
   "cell_type": "markdown",
   "metadata": {},
   "source": [
    "# Splitting our dataset into training set and validation set"
   ]
  },
  {
   "cell_type": "code",
   "execution_count": 9,
   "metadata": {},
   "outputs": [],
   "source": [
    "x_train, x_val, y_train, y_val = train_test_split(x_train, y_train, test_size = 0.1, random_state = 2)"
   ]
  },
  {
   "cell_type": "markdown",
   "metadata": {},
   "source": [
    "# Visualizing the data"
   ]
  },
  {
   "cell_type": "code",
   "execution_count": 10,
   "metadata": {},
   "outputs": [
    {
     "data": {
      "image/png": "[encoded data removed]",
      "text/plain": [
       "<Figure size 432x288 with 1 Axes>"
      ]
     },
     "metadata": {
      "needs_background": "light"
     },
     "output_type": "display_data"
    }
   ],
   "source": [
    "image = plt.imshow(x_train[0][:, :, 0])"
   ]
  },
  {
   "cell_type": "markdown",
   "metadata": {},
   "source": [
    "# Convolutional Neural Networks using Keras Sequential API\n",
    "Add one layer at a time, starting from input\n",
    "### First layer: Convolutional Layer (Conv2D):\n",
    "Set of learnable filters, each filter transforms a part of the image using kernel filter. Filters are basically a transformation of the image. Used for isolation of features in the image\n",
    "### Second Layer: Pool Layer (MaxPool2D):\n",
    "Acts as a downsampling filter. Looks at the 2 neighbouring pixels and picks the maximal value. It's used to decrease the computational cost and, to some extent, reduce overfitting. \n",
    "### Dropout:\n",
    "It is a regularization method where a proportion of nodes in the layer are randomly ignored(weights are set to 0) for each training sample. This forces the network to learn the features in a distributed way.\n",
    "### Activation Function (ReLU):\n",
    "Here we will be using the Rectifier Linear Unit activation function. It adds non linearity to the network. \n",
    "### Flatten:\n",
    "Flatten layer converts the final feature maps into a single 1D vector. This is needed so that fully connected layers can be used after convolutional and maxpool layers. \n",
    "### Dense:\n",
    "Artifical Neural Networks Classifier. "
   ]
  },
  {
   "cell_type": "code",
   "execution_count": 11,
   "metadata": {},
   "outputs": [
    {
     "name": "stdout",
     "output_type": "stream",
     "text": [
      "WARNING:tensorflow:From C:\\ProgramData\\Anaconda3\\lib\\site-packages\\keras\\backend\\tensorflow_backend.py:74: The name tf.get_default_graph is deprecated. Please use tf.compat.v1.get_default_graph instead.\n",
      "\n",
      "WARNING:tensorflow:From C:\\ProgramData\\Anaconda3\\lib\\site-packages\\keras\\backend\\tensorflow_backend.py:517: The name tf.placeholder is deprecated. Please use tf.compat.v1.placeholder instead.\n",
      "\n",
      "WARNING:tensorflow:From C:\\ProgramData\\Anaconda3\\lib\\site-packages\\keras\\backend\\tensorflow_backend.py:4138: The name tf.random_uniform is deprecated. Please use tf.random.uniform instead.\n",
      "\n",
      "WARNING:tensorflow:From C:\\ProgramData\\Anaconda3\\lib\\site-packages\\keras\\backend\\tensorflow_backend.py:3976: The name tf.nn.max_pool is deprecated. Please use tf.nn.max_pool2d instead.\n",
      "\n",
      "WARNING:tensorflow:From C:\\ProgramData\\Anaconda3\\lib\\site-packages\\keras\\backend\\tensorflow_backend.py:133: The name tf.placeholder_with_default is deprecated. Please use tf.compat.v1.placeholder_with_default instead.\n",
      "\n",
      "WARNING:tensorflow:From C:\\ProgramData\\Anaconda3\\lib\\site-packages\\keras\\backend\\tensorflow_backend.py:3445: calling dropout (from tensorflow.python.ops.nn_ops) with keep_prob is deprecated and will be removed in a future version.\n",
      "Instructions for updating:\n",
      "Please use `rate` instead of `keep_prob`. Rate should be set to `rate = 1 - keep_prob`.\n"
     ]
    }
   ],
   "source": [
    "model = Sequential()\n",
    "\n",
    "model.add(Conv2D(filters = 32, kernel_size = (5,5), padding = 'Same', activation = 'relu', input_shape = (28, 28, 1)))\n",
    "model.add(Conv2D(filters = 32, kernel_size = (5,5), padding = 'Same', activation = 'relu', input_shape = (28, 28, 1)))\n",
    "model.add(MaxPool2D(pool_size = (2,2)))\n",
    "model.add(Dropout(0.25))\n",
    "\n",
    "model.add(Conv2D(filters = 64, kernel_size = (3,3), padding = 'Same', activation = 'relu', input_shape = (28, 28, 1)))\n",
    "model.add(Conv2D(filters = 64, kernel_size = (3,3), padding = 'Same', activation = 'relu', input_shape = (28, 28, 1)))\n",
    "model.add(MaxPool2D(pool_size = (2,2), strides = (2,2)))\n",
    "model.add(Dropout(0.25))\n",
    "\n",
    "model.add(Flatten())\n",
    "model.add(Dense(256, activation = 'relu'))\n",
    "model.add(Dropout(0.5))\n",
    "model.add(Dense(10, activation = 'softmax'))"
   ]
  },
  {
   "cell_type": "markdown",
   "metadata": {},
   "source": [
    "# Setting score function, loss function and optimization algorithm\n",
    "### Loss function:\n",
    "Measures how poorly our model performs on images with known labels. It is the error rate between the observed labels and the predicted ones. \n",
    "### Optimizer:\n",
    "Iteratively improves parameters (filter kernel values, weights and bias of neurons etc) in order to minimize loss"
   ]
  },
  {
   "cell_type": "code",
   "execution_count": 12,
   "metadata": {},
   "outputs": [
    {
     "name": "stdout",
     "output_type": "stream",
     "text": [
      "WARNING:tensorflow:From C:\\ProgramData\\Anaconda3\\lib\\site-packages\\keras\\optimizers.py:790: The name tf.train.Optimizer is deprecated. Please use tf.compat.v1.train.Optimizer instead.\n",
      "\n",
      "WARNING:tensorflow:From C:\\ProgramData\\Anaconda3\\lib\\site-packages\\keras\\backend\\tensorflow_backend.py:3295: The name tf.log is deprecated. Please use tf.math.log instead.\n",
      "\n"
     ]
    }
   ],
   "source": [
    "optimizer = RMSprop(epsilon = 1e-08)\n",
    "\n",
    "model.compile(optimizer = optimizer, loss = \"categorical_crossentropy\", metrics = [\"accuracy\"])"
   ]
  },
  {
   "cell_type": "markdown",
   "metadata": {},
   "source": [
    "In order to make the optimizer converge faster and closest to global minimum of the loss function, an annealing method of the Learning Rate (LR) is used. \n",
    "It is the step by which the optimizer walks through the \"loss landscape\". The higher the LR, the bigger the steps and the quicker the convergence. However the sampling is very poor with a high LR and the optimizer could fall into a local minima. \n",
    "Therefore a decreasing learning rate (every x steps or epochs) is preferred to efficiently reach the global minimum of the loss function. "
   ]
  },
  {
   "cell_type": "code",
   "execution_count": 13,
   "metadata": {},
   "outputs": [],
   "source": [
    "#If the accuracy is not improved after 3 epochs, reduce the LR by half\n",
    "learning_rate_reduction = ReduceLROnPlateau(monitor = 'val_acc', patience = 3, verbose = 1, factor = 0.5, min_lr = 0.00001)"
   ]
  },
  {
   "cell_type": "code",
   "execution_count": 14,
   "metadata": {},
   "outputs": [],
   "source": [
    "epochs = 30\n",
    "batch_size = 86"
   ]
  },
  {
   "cell_type": "markdown",
   "metadata": {},
   "source": [
    "# Data Augmentation\n",
    "We need to prevent overfitting in our model. This is done by making the existing dataset even larger by altering the dataset with some transformations to reproduce the variations occuring when a digit is being written (Ex: the number is not centered, numbers are written with different sizes, image is rotated) <br>\n",
    "Approaches that alter the training data in ways that change the array representation while keeping the label the same are known as data augmentation techniques. Some popular augmentations people use are grayscales, horizontal flips, vertical flips, random crops, color jitters, translations, rotations, and much more.<br><br>\n",
    "We will:\n",
    "Randomly rotate some training images by 10 degrees\n",
    "Randomly Zoom by 10% some training images\n",
    "Randomly shift images horizontally by 10% of the width\n",
    "Randomly shift images vertically by 10% of the height\n",
    "not apply a vertical_flip nor horizontal_flip since it could have lead to misclassify symetrical numbers such as 6 and 9."
   ]
  },
  {
   "cell_type": "code",
   "execution_count": 15,
   "metadata": {},
   "outputs": [],
   "source": [
    "datagen = ImageDataGenerator(\n",
    "        featurewise_center=False,  # set input mean to 0 over the dataset\n",
    "        samplewise_center=False,  # set each sample mean to 0\n",
    "        featurewise_std_normalization=False,  # divide inputs by std of the dataset\n",
    "        samplewise_std_normalization=False,  # divide each input by its std\n",
    "        zca_whitening=False,  # apply ZCA whitening\n",
    "        rotation_range=10,  # randomly rotate images in the range (degrees, 0 to 180)\n",
    "        zoom_range = 0.1, # Randomly zoom image \n",
    "        width_shift_range=0.1,  # randomly shift images horizontally (fraction of total width)\n",
    "        height_shift_range=0.1,  # randomly shift images vertically (fraction of total height)\n",
    "        horizontal_flip=False,  # randomly flip images\n",
    "        vertical_flip=False)  # randomly flip images"
   ]
  },
  {
   "cell_type": "code",
   "execution_count": 16,
   "metadata": {},
   "outputs": [
    {
     "name": "stdout",
     "output_type": "stream",
     "text": [
      "WARNING:tensorflow:From C:\\ProgramData\\Anaconda3\\lib\\site-packages\\tensorflow\\python\\ops\\math_grad.py:1250: add_dispatch_support.<locals>.wrapper (from tensorflow.python.ops.array_ops) is deprecated and will be removed in a future version.\n",
      "Instructions for updating:\n",
      "Use tf.where in 2.0, which has the same broadcast rule as np.where\n",
      "Epoch 1/30\n",
      " - 10s - loss: 0.4174 - acc: 0.8669 - val_loss: 0.0738 - val_acc: 0.9767\n",
      "Epoch 2/30\n",
      " - 8s - loss: 0.1300 - acc: 0.9605 - val_loss: 0.0436 - val_acc: 0.9867\n",
      "Epoch 3/30\n",
      " - 8s - loss: 0.0959 - acc: 0.9711 - val_loss: 0.0416 - val_acc: 0.9867\n",
      "Epoch 4/30\n",
      " - 8s - loss: 0.0816 - acc: 0.9757 - val_loss: 0.0333 - val_acc: 0.9905\n",
      "Epoch 5/30\n",
      " - 8s - loss: 0.0734 - acc: 0.9790 - val_loss: 0.0322 - val_acc: 0.9910\n",
      "Epoch 6/30\n",
      " - 8s - loss: 0.0689 - acc: 0.9793 - val_loss: 0.0326 - val_acc: 0.9898\n",
      "Epoch 7/30\n",
      " - 8s - loss: 0.0607 - acc: 0.9815 - val_loss: 0.0330 - val_acc: 0.9898\n",
      "Epoch 8/30\n",
      " - 8s - loss: 0.0603 - acc: 0.9828 - val_loss: 0.0267 - val_acc: 0.9921\n",
      "Epoch 9/30\n",
      " - 8s - loss: 0.0618 - acc: 0.9823 - val_loss: 0.0348 - val_acc: 0.9886\n",
      "Epoch 10/30\n",
      " - 8s - loss: 0.0616 - acc: 0.9832 - val_loss: 0.0283 - val_acc: 0.9907\n",
      "Epoch 11/30\n",
      " - 8s - loss: 0.0631 - acc: 0.9826 - val_loss: 0.0235 - val_acc: 0.9929\n",
      "Epoch 12/30\n",
      " - 8s - loss: 0.0654 - acc: 0.9824 - val_loss: 0.0246 - val_acc: 0.9938\n",
      "Epoch 13/30\n",
      " - 8s - loss: 0.0615 - acc: 0.9836 - val_loss: 0.0218 - val_acc: 0.9933\n",
      "Epoch 14/30\n",
      " - 8s - loss: 0.0652 - acc: 0.9825 - val_loss: 0.0305 - val_acc: 0.9914\n",
      "Epoch 15/30\n",
      " - 8s - loss: 0.0636 - acc: 0.9832 - val_loss: 0.0280 - val_acc: 0.9929\n",
      "\n",
      "Epoch 00015: ReduceLROnPlateau reducing learning rate to 0.0005000000237487257.\n",
      "Epoch 16/30\n",
      " - 8s - loss: 0.0490 - acc: 0.9863 - val_loss: 0.0288 - val_acc: 0.9921\n",
      "Epoch 17/30\n",
      " - 8s - loss: 0.0476 - acc: 0.9872 - val_loss: 0.0205 - val_acc: 0.9945\n",
      "Epoch 18/30\n",
      " - 8s - loss: 0.0458 - acc: 0.9876 - val_loss: 0.0174 - val_acc: 0.9945\n",
      "Epoch 19/30\n",
      " - 8s - loss: 0.0467 - acc: 0.9872 - val_loss: 0.0204 - val_acc: 0.9943\n",
      "Epoch 20/30\n",
      " - 8s - loss: 0.0459 - acc: 0.9873 - val_loss: 0.0271 - val_acc: 0.9943\n",
      "\n",
      "Epoch 00020: ReduceLROnPlateau reducing learning rate to 0.0002500000118743628.\n",
      "Epoch 21/30\n",
      " - 8s - loss: 0.0419 - acc: 0.9885 - val_loss: 0.0172 - val_acc: 0.9950\n",
      "Epoch 22/30\n",
      " - 8s - loss: 0.0409 - acc: 0.9893 - val_loss: 0.0166 - val_acc: 0.9945\n",
      "Epoch 23/30\n",
      " - 8s - loss: 0.0368 - acc: 0.9902 - val_loss: 0.0206 - val_acc: 0.9945\n",
      "Epoch 24/30\n",
      " - 8s - loss: 0.0367 - acc: 0.9895 - val_loss: 0.0222 - val_acc: 0.9948\n",
      "\n",
      "Epoch 00024: ReduceLROnPlateau reducing learning rate to 0.0001250000059371814.\n",
      "Epoch 25/30\n",
      " - 8s - loss: 0.0337 - acc: 0.9900 - val_loss: 0.0167 - val_acc: 0.9950\n",
      "Epoch 26/30\n",
      " - 10s - loss: 0.0361 - acc: 0.9900 - val_loss: 0.0153 - val_acc: 0.9955\n",
      "Epoch 27/30\n",
      " - 10s - loss: 0.0330 - acc: 0.9906 - val_loss: 0.0159 - val_acc: 0.9955\n",
      "Epoch 28/30\n",
      " - 8s - loss: 0.0372 - acc: 0.9901 - val_loss: 0.0159 - val_acc: 0.9952\n",
      "Epoch 29/30\n",
      " - 8s - loss: 0.0351 - acc: 0.9896 - val_loss: 0.0200 - val_acc: 0.9940\n",
      "\n",
      "Epoch 00029: ReduceLROnPlateau reducing learning rate to 6.25000029685907e-05.\n",
      "Epoch 30/30\n",
      " - 8s - loss: 0.0324 - acc: 0.9908 - val_loss: 0.0166 - val_acc: 0.9948\n"
     ]
    }
   ],
   "source": [
    "history = model.fit_generator(datagen.flow(x_train,y_train, batch_size=batch_size),\n",
    "                              epochs = epochs, validation_data = (x_val,y_val),\n",
    "                              verbose = 2, steps_per_epoch=x_train.shape[0] // batch_size\n",
    "                              , callbacks=[learning_rate_reduction])"
   ]
  },
  {
   "cell_type": "code",
   "execution_count": 17,
   "metadata": {},
   "outputs": [
    {
     "data": {
      "image/png": "[encoded data removed]",
      "text/plain": [
       "<Figure size 432x288 with 2 Axes>"
      ]
     },
     "metadata": {
      "needs_background": "light"
     },
     "output_type": "display_data"
    }
   ],
   "source": [
    "fig, ax = plt.subplots(2,1)\n",
    "ax[0].plot(history.history['loss'], color='b', label=\"Training loss\")\n",
    "ax[0].plot(history.history['val_loss'], color='r', label=\"validation loss\",axes =ax[0])\n",
    "legend = ax[0].legend(loc='best', shadow=True)\n",
    "\n",
    "ax[1].plot(history.history['acc'], color='b', label=\"Training accuracy\")\n",
    "ax[1].plot(history.history['val_acc'], color='r',label=\"Validation accuracy\")\n",
    "legend = ax[1].legend(loc='best', shadow=True)"
   ]
  },
  {
   "cell_type": "markdown",
   "metadata": {},
   "source": [
    "# Confusion Matrix"
   ]
  },
  {
   "cell_type": "code",
   "execution_count": 18,
   "metadata": {},
   "outputs": [
    {
     "data": {
      "image/png": "[encoded data removed]",
      "text/plain": [
       "<Figure size 432x288 with 2 Axes>"
      ]
     },
     "metadata": {
      "needs_background": "light"
     },
     "output_type": "display_data"
    }
   ],
   "source": [
    "def plot_confusion_matrix(cm, classes, normalize = False, title = 'Confusion matrix', cmap = plt.cm.Blues):\n",
    "    '''Prints and plots confusion matrix. Normalize can be applied by setting normalize = True'''\n",
    "    plt.imshow(cm, interpolation='nearest', cmap=cmap)\n",
    "    plt.title(title)\n",
    "    plt.colorbar()\n",
    "    tick_marks = np.arange(len(classes))\n",
    "    plt.xticks(tick_marks, classes, rotation=45)\n",
    "    plt.yticks(tick_marks, classes)\n",
    "\n",
    "    if normalize:\n",
    "        cm = cm.astype('float') / cm.sum(axis=1)[:, np.newaxis]\n",
    "\n",
    "    thresh = cm.max() / 2.\n",
    "    for i, j in itertools.product(range(cm.shape[0]), range(cm.shape[1])):\n",
    "        plt.text(j, i, cm[i, j],\n",
    "                 horizontalalignment=\"center\",\n",
    "                 color=\"white\" if cm[i, j] > thresh else \"black\")\n",
    "\n",
    "    plt.tight_layout()\n",
    "    plt.ylabel('True label')\n",
    "    plt.xlabel('Predicted label')\n",
    "\n",
    "# Predict the values from the validation dataset\n",
    "y_pred = model.predict(x_val)\n",
    "# Convert predictions classes to one hot vectors \n",
    "y_pred_classes = np.argmax(y_pred,axis = 1) \n",
    "# Convert validation observations to one hot vectors\n",
    "y_true = np.argmax(y_val,axis = 1) \n",
    "# compute the confusion matrix\n",
    "confusion_mtx = confusion_matrix(y_true, y_pred_classes) \n",
    "# plot the confusion matrix\n",
    "plot_confusion_matrix(confusion_mtx, classes = range(10)) "
   ]
  },
  {
   "cell_type": "markdown",
   "metadata": {},
   "source": [
    "# Investigating the errors"
   ]
  },
  {
   "cell_type": "code",
   "execution_count": 19,
   "metadata": {},
   "outputs": [],
   "source": [
    "errors = (y_pred_classes - y_true != 0)\n",
    "y_pred_classes_errors = y_pred_classes[errors]\n",
    "y_pred_errors = y_pred[errors]\n",
    "y_true_errors = y_true[errors]\n",
    "x_val_errors = x_val[errors]\n",
    "\n",
    "def display_errors (errors_index, img_errors, pred_errors, obs_errors):\n",
    "    '''Shows 6 images with their predicted and actual labels'''\n",
    "    n = 0\n",
    "    nrows = 2\n",
    "    ncols = 3\n",
    "    fig, ax = plt.subplots(nrows, ncols, sharex = True, sharey = True)\n",
    "    for row in range(nrows):\n",
    "        for col in range(ncols):\n",
    "            errors = errors_index[n]\n",
    "            ax[row,col].imshow((img_errors[error]).reshape((28,28)))\n",
    "            ax[row,col].set_title(\"Predicted label :{}\\nTrue label :{}\".format(pred_errors[error],obs_errors[error]))\n",
    "            n += 1\n",
    "            \n",
    "    #Probability of the wrong predicted numbers\n",
    "    y_pred_errors_prob = np.max(y_pred_errors, axis = 1)\n",
    "    \n",
    "    #Predicted probability of the true values in the error set\n",
    "    true_prob_errors = np.diagonal(np.take(y_pred_errors, y_true_errors, axis = 1))\n",
    "    \n",
    "    #Difference between probability of the predicted label and the true label\n",
    "    delta_pred_true_errors = y_pred_errors_prob - true_prob_errors\n",
    "    \n",
    "    # Sorted list of the delta prob errors\n",
    "    sorted_delta_errors = np.argsort(delta_pred_true_errors)\n",
    "    \n",
    "    # Top 6 errors \n",
    "    most_important_errors = sorted_dela_errors[-6:]\n",
    "    \n",
    "    # Show the top 6 errors\n",
    "    display_errors(most_important_errors, x_val_errors, y_pred_classes_errors, y_true_errors)"
   ]
  },
  {
   "cell_type": "code",
   "execution_count": 20,
   "metadata": {},
   "outputs": [
    {
     "data": {
      "image/png": "[encoded data removed]",
      "text/plain": [
       "<Figure size 432x288 with 6 Axes>"
      ]
     },
     "metadata": {
      "needs_background": "light"
     },
     "output_type": "display_data"
    }
   ],
   "source": [
    "\n",
    "# Errors are difference between predicted labels and true labels\n",
    "errors = (y_pred_classes - y_true != 0)\n",
    "\n",
    "y_pred_classes_errors = y_pred_classes[errors]\n",
    "y_pred_errors = y_pred[errors]\n",
    "y_true_errors = y_true[errors]\n",
    "x_val_errors = x_val[errors]\n",
    "\n",
    "def display_errors(errors_index,img_errors,pred_errors, obs_errors):\n",
    "    \"\"\" This function shows 6 images with their predicted and real labels\"\"\"\n",
    "    n = 0\n",
    "    nrows = 2\n",
    "    ncols = 3\n",
    "    fig, ax = plt.subplots(nrows,ncols,sharex=True,sharey=True)\n",
    "    for row in range(nrows):\n",
    "        for col in range(ncols):\n",
    "            error = errors_index[n]\n",
    "            ax[row,col].imshow((img_errors[error]).reshape((28,28)))\n",
    "            ax[row,col].set_title(\"Predicted label :{}\\nTrue label :{}\".format(pred_errors[error],obs_errors[error]))\n",
    "            n += 1\n",
    "\n",
    "# Probabilities of the wrong predicted numbers\n",
    "y_pred_errors_prob = np.max(y_pred_errors,axis = 1)\n",
    "\n",
    "# Predicted probabilities of the true values in the error set\n",
    "true_prob_errors = np.diagonal(np.take(y_pred_errors, y_true_errors, axis=1))\n",
    "\n",
    "# Difference between the probability of the predicted label and the true label\n",
    "delta_pred_true_errors = y_pred_errors_prob - true_prob_errors\n",
    "\n",
    "# Sorted list of the delta prob errors\n",
    "sorted_dela_errors = np.argsort(delta_pred_true_errors)\n",
    "\n",
    "# Top 6 errors \n",
    "most_important_errors = sorted_dela_errors[-6:]\n",
    "\n",
    "# Show the top 6 errors\n",
    "display_errors(most_important_errors, x_val_errors, y_pred_classes_errors, y_true_errors)"
   ]
  },
  {
   "cell_type": "code",
   "execution_count": 21,
   "metadata": {},
   "outputs": [],
   "source": [
    "results = model.predict(test_set)\n"
   ]
  },
  {
   "cell_type": "code",
   "execution_count": 22,
   "metadata": {},
   "outputs": [
    {
     "data": {
      "text/plain": [
       "array([[5.5369527e-16, 2.7829882e-15, 1.0000000e+00, ..., 3.2669260e-11,\n",
       "        1.1360484e-11, 7.7640334e-14],\n",
       "       [9.9999321e-01, 2.6644539e-10, 1.0351171e-07, ..., 4.8864397e-09,\n",
       "        1.5574620e-06, 1.3201973e-06],\n",
       "       [1.2462915e-16, 3.6738822e-18, 3.5109917e-13, ..., 2.6007768e-12,\n",
       "        2.1899236e-08, 1.0000000e+00],\n",
       "       ...,\n",
       "       [3.9048506e-25, 4.2038054e-21, 2.2430210e-14, ..., 4.2572162e-16,\n",
       "        6.5475681e-14, 3.1699885e-16],\n",
       "       [3.4398226e-08, 1.8880012e-08, 3.1400643e-07, ..., 5.1364482e-06,\n",
       "        9.0693920e-06, 9.9988925e-01],\n",
       "       [2.7143753e-15, 7.5291327e-15, 1.0000000e+00, ..., 5.5731610e-11,\n",
       "        1.9878853e-10, 1.8404799e-13]], dtype=float32)"
      ]
     },
     "execution_count": 22,
     "metadata": {},
     "output_type": "execute_result"
    }
   ],
   "source": [
    "results"
   ]
  },
  {
   "cell_type": "code",
   "execution_count": 23,
   "metadata": {},
   "outputs": [],
   "source": [
    "results = np.argmax(results,axis = 1)"
   ]
  },
  {
   "cell_type": "code",
   "execution_count": 24,
   "metadata": {},
   "outputs": [
    {
     "data": {
      "text/plain": [
       "array([2, 0, 9, ..., 3, 9, 2], dtype=int64)"
      ]
     },
     "execution_count": 24,
     "metadata": {},
     "output_type": "execute_result"
    }
   ],
   "source": [
    "results"
   ]
  },
  {
   "cell_type": "code",
   "execution_count": 25,
   "metadata": {},
   "outputs": [
    {
     "data": {
      "text/plain": [
       "0        2\n",
       "1        0\n",
       "2        9\n",
       "3        0\n",
       "4        3\n",
       "5        7\n",
       "6        0\n",
       "7        3\n",
       "8        0\n",
       "9        3\n",
       "10       5\n",
       "11       7\n",
       "12       4\n",
       "13       0\n",
       "14       4\n",
       "15       3\n",
       "16       3\n",
       "17       1\n",
       "18       9\n",
       "19       0\n",
       "20       9\n",
       "21       1\n",
       "22       1\n",
       "23       5\n",
       "24       7\n",
       "25       4\n",
       "26       2\n",
       "27       7\n",
       "28       4\n",
       "29       7\n",
       "        ..\n",
       "27970    5\n",
       "27971    0\n",
       "27972    4\n",
       "27973    8\n",
       "27974    0\n",
       "27975    3\n",
       "27976    6\n",
       "27977    0\n",
       "27978    1\n",
       "27979    9\n",
       "27980    3\n",
       "27981    1\n",
       "27982    1\n",
       "27983    0\n",
       "27984    4\n",
       "27985    5\n",
       "27986    2\n",
       "27987    2\n",
       "27988    9\n",
       "27989    6\n",
       "27990    7\n",
       "27991    6\n",
       "27992    1\n",
       "27993    9\n",
       "27994    7\n",
       "27995    9\n",
       "27996    7\n",
       "27997    3\n",
       "27998    9\n",
       "27999    2\n",
       "Name: Label, Length: 28000, dtype: int64"
      ]
     },
     "execution_count": 25,
     "metadata": {},
     "output_type": "execute_result"
    }
   ],
   "source": [
    "results = pd.Series(results,name=\"Label\")\n",
    "results"
   ]
  },
  {
   "cell_type": "code",
   "execution_count": 26,
   "metadata": {},
   "outputs": [],
   "source": [
    "submission = pd.concat([pd.Series(range(1,28001),name = \"ImageId\"),results],axis = 1)"
   ]
  },
  {
   "cell_type": "code",
   "execution_count": 27,
   "metadata": {},
   "outputs": [],
   "source": [
    "submission.to_csv(\"prediction.csv\",index=False)"
   ]
  }
 ],
 "metadata": {
  "kernelspec": {
   "display_name": "Python [conda env:root] *",
   "language": "python",
   "name": "conda-root-py"
  },
  "language_info": {
   "codemirror_mode": {
    "name": "ipython",
    "version": 3
   },
   "file_extension": ".py",
   "mimetype": "text/x-python",
   "name": "python",
   "nbconvert_exporter": "python",
   "pygments_lexer": "ipython3",
   "version": "3.7.3"
  }
 },
 "nbformat": 4,
 "nbformat_minor": 2
}
