{
 "cells": [
  {
   "cell_type": "code",
   "execution_count": 1,
   "metadata": {},
   "outputs": [],
   "source": [
    "from itertools import combinations\n",
    "from operator import itemgetter\n",
    "import pandas as pd"
   ]
  },
  {
   "cell_type": "code",
   "execution_count": 2,
   "metadata": {},
   "outputs": [
    {
     "name": "stdout",
     "output_type": "stream",
     "text": [
      "                                      items\n",
      "0        2,5,6,9,17,22,24,31,37,39,40,42,47\n",
      "1             2,4,6,16,17,19,22,39,43,49,50\n",
      "2         2,6,10,11,15,17,18,23,26,28,33,47\n",
      "3                       4,17,19,22,40,43,46\n",
      "4                     6,8,10,22,26,35,37,47\n",
      "5             10,11,17,19,26,28,30,32,33,38\n",
      "6           8,11,15,16,17,19,23,32,33,37,49\n",
      "7               2,6,10,17,19,28,33,34,38,43\n",
      "8                       1,22,26,28,31,39,40\n",
      "9                                    4,9,37\n",
      "10        2,6,7,8,9,17,19,26,32,40,42,43,47\n",
      "11               1,6,9,16,17,19,22,32,46,47\n",
      "12          4,10,18,23,24,28,31,33,37,43,46\n",
      "13                    2,8,11,13,15,16,20,47\n",
      "14      6,7,8,10,13,17,23,25,33,37,41,43,46\n",
      "15     4,6,10,11,16,17,19,23,26,32,43,46,48\n",
      "16         17,19,28,32,33,37,41,42,43,46,47\n",
      "17                   4,17,18,19,23,32,43,46\n",
      "18        2,6,11,12,13,16,17,26,27,38,40,43\n",
      "19                      5,10,22,33,39,40,43\n",
      "20         2,5,6,10,17,19,28,33,39,42,43,49\n",
      "21    6,11,17,18,19,23,26,28,33,37,43,47,48\n",
      "22                        2,5,6,17,19,31,37\n",
      "23                6,17,26,31,37,40,41,42,50\n",
      "24          6,10,11,16,32,33,37,39,40,43,49\n",
      "25                                2,8,17,23\n",
      "26       2,5,6,9,17,22,24,31,37,39,40,42,47\n",
      "27            2,4,6,16,17,19,22,39,43,49,50\n",
      "28        2,6,10,11,15,17,18,23,26,28,33,47\n",
      "29                      4,17,19,22,40,43,46\n",
      "...                                     ...\n",
      "2784                                     24\n",
      "2785                                     18\n",
      "2786                               18,29,47\n",
      "2787                                     17\n",
      "2788                               11,16,24\n",
      "2789                                  22,37\n",
      "2790                               13,43,48\n",
      "2791                               17,39,49\n",
      "2792                              3,4,31,37\n",
      "2793                                2,25,38\n",
      "2794                            33,39,44,45\n",
      "2795                            30,36,39,48\n",
      "2796                            25,43,44,45\n",
      "2797                               13,45,46\n",
      "2798                            31,36,37,40\n",
      "2799                               20,36,38\n",
      "2800                               33,34,42\n",
      "2801                                     45\n",
      "2802                            25,31,44,47\n",
      "2803                                     37\n",
      "2804                                  22,37\n",
      "2805                               13,43,48\n",
      "2806                                2,25,38\n",
      "2807                            33,39,44,45\n",
      "2808                            25,43,44,45\n",
      "2809                               13,45,46\n",
      "2810                            31,36,37,40\n",
      "2811                               33,34,42\n",
      "2812                            25,31,44,47\n",
      "2813                                     37\n",
      "\n",
      "[2814 rows x 1 columns]\n"
     ]
    }
   ],
   "source": [
    "table = pd.read_csv('sampledata_numbers.csv')\n",
    "print(table)"
   ]
  },
  {
   "cell_type": "code",
   "execution_count": 8,
   "metadata": {},
   "outputs": [
    {
     "name": "stdout",
     "output_type": "stream",
     "text": [
      "(2814, 19)\n",
      "    items  support_count  set_size\n",
      "0      10          733.0         1\n",
      "1      11          654.0         1\n",
      "2      16          775.0         1\n",
      "3      17         1378.0         1\n",
      "4      19         1144.0         1\n",
      "5       2          791.0         1\n",
      "6      23          751.0         1\n",
      "7      26          693.0         1\n",
      "8      28         1139.0         1\n",
      "9      32          828.0         1\n",
      "10     33          884.0         1\n",
      "11     37         1194.0         1\n",
      "12     39          645.0         1\n",
      "13      4          644.0         1\n",
      "14     40          669.0         1\n",
      "15     43         1339.0         1\n",
      "16     46          720.0         1\n",
      "17     47          793.0         1\n",
      "18      6         1349.0         1\n"
     ]
    }
   ],
   "source": [
    "def perform_apriori(data=table, support_count=500):\n",
    "    single_items = (data['items'].str.split(\",\", expand=True))\n",
    "    print(single_items.shape)\n",
    "    single_items = (data['items'].str.split(\",\",expand=True)).apply(pd.value_counts).sum(axis=1).where(lambda value: value > support_count).dropna()\n",
    "    #print(single_items)\n",
    "    apriori_data = pd.DataFrame({'items': single_items.index.astype(int), 'support_count': single_items.values,'set_size': 1})\n",
    "    #print(apriori_data)\n",
    "    data['set_size'] = data['items'].str.count(\",\") + 1\n",
    "    data['items'] = data['items'].apply(lambda row: set(map(int, row.split(\",\"))))\n",
    "    single_items_set = set(single_items.index.astype(int))\n",
    "perform_apriori()"
   ]
  },
  {
   "cell_type": "code",
   "execution_count": 4,
   "metadata": {},
   "outputs": [
    {
     "ename": "NameError",
     "evalue": "name 'data' is not defined",
     "output_type": "error",
     "traceback": [
      "\u001b[0;31m---------------------------------------------------------------------------\u001b[0m",
      "\u001b[0;31mNameError\u001b[0m                                 Traceback (most recent call last)",
      "\u001b[0;32m<ipython-input-4-d012048f672a>\u001b[0m in \u001b[0;36m<module>\u001b[0;34m\u001b[0m\n\u001b[0;32m----> 1\u001b[0;31m \u001b[0mdata\u001b[0m\u001b[0;34m[\u001b[0m\u001b[0;34m'set_size'\u001b[0m\u001b[0;34m]\u001b[0m \u001b[0;34m=\u001b[0m \u001b[0mdata\u001b[0m\u001b[0;34m[\u001b[0m\u001b[0;34m'items'\u001b[0m\u001b[0;34m]\u001b[0m\u001b[0;34m.\u001b[0m\u001b[0mstr\u001b[0m\u001b[0;34m.\u001b[0m\u001b[0mcount\u001b[0m\u001b[0;34m(\u001b[0m\u001b[0;34m\",\"\u001b[0m\u001b[0;34m)\u001b[0m \u001b[0;34m+\u001b[0m \u001b[0;36m1\u001b[0m\u001b[0;34m\u001b[0m\u001b[0;34m\u001b[0m\u001b[0m\n\u001b[0m",
      "\u001b[0;31mNameError\u001b[0m: name 'data' is not defined"
     ]
    }
   ],
   "source": []
  }
 ],
 "metadata": {
  "kernelspec": {
   "display_name": "Python 3",
   "language": "python",
   "name": "python3"
  },
  "language_info": {
   "codemirror_mode": {
    "name": "ipython",
    "version": 3
   },
   "file_extension": ".py",
   "mimetype": "text/x-python",
   "name": "python",
   "nbconvert_exporter": "python",
   "pygments_lexer": "ipython3",
   "version": "3.7.3"
  }
 },
 "nbformat": 4,
 "nbformat_minor": 2
}
